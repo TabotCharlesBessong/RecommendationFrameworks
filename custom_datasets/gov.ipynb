{
 "cells": [
  {
   "cell_type": "code",
   "execution_count": null,
   "metadata": {},
   "outputs": [],
   "source": [
    "import pandas as pd\n",
    "import numpy as np\n",
    "import matplotlib.pyplot as plt"
   ]
  },
  {
   "cell_type": "code",
   "execution_count": 9,
   "metadata": {},
   "outputs": [
    {
     "name": "stderr",
     "output_type": "stream",
     "text": [
      "C:\\Users\\TabotCharlesBessong\\AppData\\Local\\Temp\\ipykernel_5820\\2567569847.py:1: DtypeWarning: Columns (27) have mixed types. Specify dtype option on import or set low_memory=False.\n",
      "  gov = pd.read_csv(\"./DATA/ContractOpportunitiesFullCSV.csv\",encoding='unicode_escape')\n"
     ]
    },
    {
     "data": {
      "text/html": [
       "<div>\n",
       "<style scoped>\n",
       "    .dataframe tbody tr th:only-of-type {\n",
       "        vertical-align: middle;\n",
       "    }\n",
       "\n",
       "    .dataframe tbody tr th {\n",
       "        vertical-align: top;\n",
       "    }\n",
       "\n",
       "    .dataframe thead th {\n",
       "        text-align: right;\n",
       "    }\n",
       "</style>\n",
       "<table border=\"1\" class=\"dataframe\">\n",
       "  <thead>\n",
       "    <tr style=\"text-align: right;\">\n",
       "      <th></th>\n",
       "      <th>NoticeId</th>\n",
       "      <th>Title</th>\n",
       "      <th>Sol#</th>\n",
       "      <th>Department/Ind.Agency</th>\n",
       "      <th>CGAC</th>\n",
       "      <th>Sub-Tier</th>\n",
       "      <th>FPDS Code</th>\n",
       "      <th>Office</th>\n",
       "      <th>AAC Code</th>\n",
       "      <th>PostedDate</th>\n",
       "      <th>...</th>\n",
       "      <th>SecondaryContactPhone</th>\n",
       "      <th>SecondaryContactFax</th>\n",
       "      <th>OrganizationType</th>\n",
       "      <th>State</th>\n",
       "      <th>City</th>\n",
       "      <th>ZipCode</th>\n",
       "      <th>CountryCode</th>\n",
       "      <th>AdditionalInfoLink</th>\n",
       "      <th>Link</th>\n",
       "      <th>Description</th>\n",
       "    </tr>\n",
       "  </thead>\n",
       "  <tbody>\n",
       "    <tr>\n",
       "      <th>0</th>\n",
       "      <td>9e7b13c760ab42528918d4cad9cd8760</td>\n",
       "      <td>Install a structural wall, soundproof ceiling ...</td>\n",
       "      <td>W90VN924R0061</td>\n",
       "      <td>DEPT OF DEFENSE</td>\n",
       "      <td>21.0</td>\n",
       "      <td>DEPT OF THE ARMY</td>\n",
       "      <td>2100</td>\n",
       "      <td>646TH SUPPORT DETACHMENT</td>\n",
       "      <td>W90VN9</td>\n",
       "      <td>2024-03-31 23:00:50.044-04</td>\n",
       "      <td>...</td>\n",
       "      <td>3157635681</td>\n",
       "      <td>NaN</td>\n",
       "      <td>OFFICE</td>\n",
       "      <td>AP</td>\n",
       "      <td>APO</td>\n",
       "      <td>96218-5682</td>\n",
       "      <td>USA</td>\n",
       "      <td>NaN</td>\n",
       "      <td>https://sam.gov/opp/9e7b13c760ab42528918d4cad9...</td>\n",
       "      <td>Install a structural wall, soundproof ceiling ...</td>\n",
       "    </tr>\n",
       "  </tbody>\n",
       "</table>\n",
       "<p>1 rows × 47 columns</p>\n",
       "</div>"
      ],
      "text/plain": [
       "                           NoticeId  \\\n",
       "0  9e7b13c760ab42528918d4cad9cd8760   \n",
       "\n",
       "                                               Title           Sol#  \\\n",
       "0  Install a structural wall, soundproof ceiling ...  W90VN924R0061   \n",
       "\n",
       "  Department/Ind.Agency  CGAC          Sub-Tier FPDS Code  \\\n",
       "0       DEPT OF DEFENSE  21.0  DEPT OF THE ARMY      2100   \n",
       "\n",
       "                     Office AAC Code                  PostedDate  ...  \\\n",
       "0  646TH SUPPORT DETACHMENT   W90VN9  2024-03-31 23:00:50.044-04  ...   \n",
       "\n",
       "  SecondaryContactPhone SecondaryContactFax OrganizationType State City  \\\n",
       "0            3157635681                 NaN           OFFICE    AP  APO   \n",
       "\n",
       "      ZipCode CountryCode  AdditionalInfoLink  \\\n",
       "0  96218-5682         USA                 NaN   \n",
       "\n",
       "                                                Link  \\\n",
       "0  https://sam.gov/opp/9e7b13c760ab42528918d4cad9...   \n",
       "\n",
       "                                         Description  \n",
       "0  Install a structural wall, soundproof ceiling ...  \n",
       "\n",
       "[1 rows x 47 columns]"
      ]
     },
     "execution_count": 9,
     "metadata": {},
     "output_type": "execute_result"
    }
   ],
   "source": [
    "gov = pd.read_csv(\"./DATA/ContractOpportunitiesFullCSV.csv\",encoding='unicode_escape')\n",
    "gov.head(1)\n",
    "# gov.info()"
   ]
  },
  {
   "cell_type": "code",
   "execution_count": 12,
   "metadata": {},
   "outputs": [
    {
     "data": {
      "text/plain": [
       "4702     2024-05-01\n",
       "19603    2024-04-06\n",
       "28504    2024-06-26\n",
       "27285    2024-04-29\n",
       "30558    2024-09-30\n",
       "1766     2024-04-12\n",
       "14199    2024-04-02\n",
       "68637           NaN\n",
       "36792    2024-04-02\n",
       "15873    2024-04-20\n",
       "Name: ArchiveDate, dtype: object"
      ]
     },
     "execution_count": 12,
     "metadata": {},
     "output_type": "execute_result"
    }
   ],
   "source": [
    "gov[\"ArchiveDate\"].sample(10)\n",
    "# gov[\"Link\"].sample(10)\n"
   ]
  },
  {
   "cell_type": "code",
   "execution_count": 18,
   "metadata": {},
   "outputs": [
    {
     "data": {
      "text/plain": [
       "NoticeId                      0.000000\n",
       "Title                         0.000000\n",
       "Sol#                          1.606356\n",
       "Department/Ind.Agency         1.723366\n",
       "CGAC                          1.723366\n",
       "Sub-Tier                      1.950163\n",
       "FPDS Code                     1.729144\n",
       "Office                        1.727700\n",
       "AAC Code                      3.089924\n",
       "PostedDate                    0.000000\n",
       "Type                          0.000000\n",
       "BaseType                      0.000000\n",
       "ArchiveType                   0.000000\n",
       "ArchiveDate                   3.063922\n",
       "SetASideCode                 64.105453\n",
       "SetASide                     64.105453\n",
       "ResponseDeadLine             15.371614\n",
       "NaicsCode                     5.759480\n",
       "ClassificationCode            3.770314\n",
       "PopStreetAddress             88.999639\n",
       "PopCity                      66.084507\n",
       "PopState                     66.854460\n",
       "PopZip                       74.104731\n",
       "PopCountry                   59.820874\n",
       "Active                        0.000000\n",
       "AwardNumber                  82.975804\n",
       "AwardDate                    82.951246\n",
       "Award$                       83.724088\n",
       "Awardee                      69.626580\n",
       "PrimaryContactTitle          88.319249\n",
       "PrimaryContactFullname        1.797039\n",
       "PrimaryContactEmail          12.174792\n",
       "PrimaryContactPhone          55.560852\n",
       "PrimaryContactFax            95.653304\n",
       "SecondaryContactTitle        97.519682\n",
       "SecondaryContactFullname     70.124955\n",
       "SecondaryContactEmail        70.465872\n",
       "SecondaryContactPhone        79.282051\n",
       "SecondaryContactFax          97.766703\n",
       "OrganizationType              1.723366\n",
       "State                         3.253160\n",
       "City                          3.091369\n",
       "ZipCode                       3.232936\n",
       "CountryCode                   2.786566\n",
       "AdditionalInfoLink          100.000000\n",
       "Link                          0.000000\n",
       "Description                  14.868906\n",
       "dtype: float64"
      ]
     },
     "execution_count": 18,
     "metadata": {},
     "output_type": "execute_result"
    }
   ],
   "source": [
    "perc = (gov.isnull().sum() / len(gov) * 100 )\n",
    "perc"
   ]
  },
  {
   "cell_type": "code",
   "execution_count": 21,
   "metadata": {},
   "outputs": [
    {
     "name": "stdout",
     "output_type": "stream",
     "text": [
      "0    2024-03-31 23:00:50.044-04\n",
      "1     2024-03-31 22:51:48.41-04\n",
      "2    2024-03-31 22:50:50.692-04\n",
      "Name: PostedDate, dtype: object \n",
      "\n",
      "0    aaron.g.mallory.mil@army.mil\n",
      "1    aaron.g.mallory.mil@army.mil\n",
      "2              tracey.lee@irs.gov\n",
      "Name: SecondaryContactEmail, dtype: object \n",
      "\n",
      "0    3157635681\n",
      "1    3157635681\n",
      "2           NaN\n",
      "Name: SecondaryContactPhone, dtype: object\n"
     ]
    }
   ],
   "source": [
    "print(gov[\"PostedDate\"][:3],\"\\n\")\n",
    "print(gov[\"SecondaryContactEmail\"][:3],\"\\n\")\n",
    "print(gov[\"SecondaryContactPhone\"][:3])"
   ]
  },
  {
   "cell_type": "code",
   "execution_count": 22,
   "metadata": {},
   "outputs": [
    {
     "name": "stdout",
     "output_type": "stream",
     "text": [
      "0    2024-04-18T13:00:00+09:00\n",
      "1    2024-04-15T13:00:00+09:00\n",
      "2    2024-04-05T23:59:00-04:00\n",
      "3    2024-04-12T16:00:00-05:00\n",
      "4                          NaN\n",
      "5                          NaN\n",
      "6                          NaN\n",
      "7    2024-04-29T13:00:00+09:00\n",
      "8                   2024-04-15\n",
      "9    2024-04-09T14:00:00-05:00\n",
      "Name: ResponseDeadLine, dtype: object \n",
      "\n"
     ]
    }
   ],
   "source": [
    "print(gov[\"ResponseDeadLine\"][:10], \"\\n\")"
   ]
  },
  {
   "cell_type": "code",
   "execution_count": 23,
   "metadata": {},
   "outputs": [
    {
     "data": {
      "text/plain": [
       "69225"
      ]
     },
     "execution_count": 23,
     "metadata": {},
     "output_type": "execute_result"
    }
   ],
   "source": [
    "len(gov)"
   ]
  },
  {
   "cell_type": "code",
   "execution_count": null,
   "metadata": {},
   "outputs": [],
   "source": []
  }
 ],
 "metadata": {
  "kernelspec": {
   "display_name": "Python 3",
   "language": "python",
   "name": "python3"
  },
  "language_info": {
   "codemirror_mode": {
    "name": "ipython",
    "version": 3
   },
   "file_extension": ".py",
   "mimetype": "text/x-python",
   "name": "python",
   "nbconvert_exporter": "python",
   "pygments_lexer": "ipython3",
   "version": "undefined.undefined.undefined"
  }
 },
 "nbformat": 4,
 "nbformat_minor": 2
}
