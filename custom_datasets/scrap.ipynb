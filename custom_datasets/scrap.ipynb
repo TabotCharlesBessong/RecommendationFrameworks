{
 "cells": [
  {
   "cell_type": "code",
   "execution_count": null,
   "metadata": {},
   "outputs": [],
   "source": [
    "import scrapy as sc"
   ]
  },
  {
   "cell_type": "code",
   "execution_count": null,
   "metadata": {},
   "outputs": [],
   "source": [
    "class QuotesSpider(sc.Spider):\n",
    "  name = \"quotes\"\n",
    "  start_urls = [\"https://quotes.toscrape.com/tag/humor/\"]\n",
    "  \n",
    "  def parse(self,response):\n",
    "    for quote in response.css(\"div.quote\"):\n",
    "      yield{\n",
    "        \"author\":quote.xpath(\"span/small/text()\").get(),\n",
    "        \"text\":quote.css(\"span.text::text\").get()\n",
    "      }\n",
    "    next_page = response.css('li.next a::attr(\"href\")').get()\n",
    "    if next_page is not None:\n",
    "      yield response.follow(next_page,self.parse)"
   ]
  },
  {
   "cell_type": "code",
   "execution_count": null,
   "metadata": {},
   "outputs": [],
   "source": [
    "import pandas as pd"
   ]
  },
  {
   "cell_type": "code",
   "execution_count": null,
   "metadata": {},
   "outputs": [],
   "source": [
    "df = pd.read_csv(\"./quotes.csv\")\n",
    "df"
   ]
  },
  {
   "cell_type": "code",
   "execution_count": null,
   "metadata": {},
   "outputs": [],
   "source": [
    "df.to_excel(\"quotes.xlsx\",index=False)"
   ]
  },
  {
   "cell_type": "code",
   "execution_count": null,
   "metadata": {},
   "outputs": [],
   "source": []
  }
 ],
 "metadata": {
  "kernelspec": {
   "display_name": "Python 3",
   "language": "python",
   "name": "python3"
  },
  "language_info": {
   "codemirror_mode": {
    "name": "ipython",
    "version": 3
   },
   "file_extension": ".py",
   "mimetype": "text/x-python",
   "name": "python",
   "nbconvert_exporter": "python",
   "pygments_lexer": "ipython3",
   "version": "3.11.5"
  }
 },
 "nbformat": 4,
 "nbformat_minor": 2
}
