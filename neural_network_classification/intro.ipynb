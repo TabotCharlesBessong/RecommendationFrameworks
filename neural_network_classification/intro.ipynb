{
 "cells": [
  {
   "cell_type": "markdown",
   "metadata": {},
   "source": [
    "# 3. Neural Network Classification"
   ]
  },
  {
   "cell_type": "markdown",
   "metadata": {},
   "source": [
    "## 3.1 Creating dataset"
   ]
  },
  {
   "cell_type": "code",
   "execution_count": null,
   "metadata": {},
   "outputs": [],
   "source": [
    "import torch as tc\n",
    "from torch import nn\n",
    "import numpy as np\n",
    "import matplotlib.pyplot as plt\n",
    "from sklearn.datasets import make_circles\n",
    "import pandas as pd"
   ]
  },
  {
   "cell_type": "code",
   "execution_count": null,
   "metadata": {},
   "outputs": [],
   "source": [
    "# Make a 1000 circles\n",
    "n_samples = 1000\n",
    "\n",
    "# create a circle\n",
    "X,y = make_circles(n_samples,noise=0.03,random_state=42)\n",
    "print(len(X), len(y))\n",
    "print(f\"Firts 5 samples of X:\\n {X[:5]}\")\n",
    "print(f\"Firts 5 samples of y:\\n {y[:5]}\")"
   ]
  },
  {
   "cell_type": "code",
   "execution_count": null,
   "metadata": {},
   "outputs": [],
   "source": [
    "# make a df\n",
    "circles = pd.DataFrame({'X1':X[:,0],\"X2\":X[:,1],\"Label\":y})\n",
    "circles.head(10)"
   ]
  },
  {
   "cell_type": "code",
   "execution_count": null,
   "metadata": {},
   "outputs": [],
   "source": [
    "plt.scatter(x=X[:,0],y=X[:,1],c=y,cmap=\"viridis\")"
   ]
  },
  {
   "cell_type": "markdown",
   "metadata": {},
   "source": [
    "## 3.2 Check input and output shape"
   ]
  },
  {
   "cell_type": "code",
   "execution_count": null,
   "metadata": {},
   "outputs": [],
   "source": [
    "X.shape, y.shape"
   ]
  },
  {
   "cell_type": "code",
   "execution_count": null,
   "metadata": {},
   "outputs": [],
   "source": [
    "# Viewing features and labels\n",
    "X_sample = X[0]\n",
    "y_sample = y[0]\n",
    "\n",
    "print(f\"Values for one sample of X:\\n{X_sample}\\nAnd the same for y:\\n{y_sample}\")\n",
    "print(f\"Shapes for one sample of X:\\n{X_sample.shape}\\nAnd the same for y:\\n{y_sample.shape}\")"
   ]
  },
  {
   "cell_type": "markdown",
   "metadata": {},
   "source": [
    "## 3.3 Turning Data into tensors"
   ]
  },
  {
   "cell_type": "code",
   "execution_count": null,
   "metadata": {},
   "outputs": [],
   "source": [
    "X = tc.from_numpy(X).type(tc.float)\n",
    "y = tc.from_numpy(y).type(tc.float)\n",
    "\n",
    "X[:5], y[:5]"
   ]
  },
  {
   "cell_type": "code",
   "execution_count": null,
   "metadata": {},
   "outputs": [],
   "source": [
    "# split data into train test set\n",
    "from sklearn.model_selection import train_test_split\n",
    "\n",
    "X_train,X_test,y_train,y_test = train_test_split(X,y,random_state=42,test_size=0.3)\n",
    "print(X_test[:5],X_train[:5],y_train[:5],y_test[:5])"
   ]
  },
  {
   "cell_type": "markdown",
   "metadata": {},
   "source": [
    "## 3.4 Building a model"
   ]
  },
  {
   "cell_type": "code",
   "execution_count": null,
   "metadata": {},
   "outputs": [],
   "source": [
    "# 1. Custruct a model\n",
    "class CircleModelV1(nn.Module):\n",
    "    def __init__(self):\n",
    "        super().__init__()\n",
    "        # 2. Create 2 nn.linear layer to handle shapes of our data\n",
    "        # self.layer1 = nn.Linear(in_features=2, out_features=5)\n",
    "        # self.layer2 = nn.Linear(in_features=5, out_features=1)\n",
    "\n",
    "        self.two_linear_layers = nn.Sequential(\n",
    "            nn.Linear(in_features=2, out_features=5),\n",
    "            nn.Linear(in_features=5, out_features=1),\n",
    "        )\n",
    "\n",
    "    # 3. Define a forward method that outlines the forward pass\n",
    "    def forward(self, x):\n",
    "        # return self.layer2(self.layer1(x))\n",
    "        return self.two_linear_layers(x)\n",
    "\n",
    " \n",
    "# 4. Instantiate an instance of our model class and send it to target device\n",
    "model0 = CircleModelV1().to(device=\"cpu\")\n",
    "model0"
   ]
  },
  {
   "cell_type": "code",
   "execution_count": null,
   "metadata": {},
   "outputs": [],
   "source": [
    "# making some predictions\n",
    "# model0.state_dict()\n",
    "preds1 = model0(X_test)\n",
    "print(f\"Length of predictions: {len(preds1)},\\nShape: {preds1.shape}\")\n",
    "print(f\"Length of test samples: {len(X_test)},\\nShape: {X_test.shape}\")\n",
    "print(f\"Length of train samples: {len(X_test)},\\nShape: {X_train.shape}\")\n",
    "print(f\"First 10 predictions:\\n{preds1[:10]}\")"
   ]
  },
  {
   "cell_type": "markdown",
   "metadata": {},
   "source": [
    "## 3.5 Setting up a loss function"
   ]
  },
  {
   "cell_type": "code",
   "execution_count": null,
   "metadata": {},
   "outputs": [],
   "source": [
    "loss_fn = nn.BCEWithLogitsLoss # sigmoid activation function\n",
    "optimiser = tc.optim.SGD(params=model0.parameters(),lr=0.1)\n",
    "\n",
    "# model0.state_dict()"
   ]
  },
  {
   "cell_type": "code",
   "execution_count": null,
   "metadata": {},
   "outputs": [],
   "source": [
    "# evaluation matrix\n",
    "def accuracy_fc(y_true, y_pred):\n",
    "    correct = tc.eq(y_true, y_pred).sum().item()\n",
    "    acc = (correct / len(y_pred)) * 100\n",
    "    return acc"
   ]
  }
 ],
 "metadata": {
  "kernelspec": {
   "display_name": "Python 3",
   "language": "python",
   "name": "python3"
  },
  "language_info": {
   "codemirror_mode": {
    "name": "ipython",
    "version": 3
   },
   "file_extension": ".py",
   "mimetype": "text/x-python",
   "name": "python",
   "nbconvert_exporter": "python",
   "pygments_lexer": "ipython3",
   "version": "3.11.5"
  }
 },
 "nbformat": 4,
 "nbformat_minor": 2
}
