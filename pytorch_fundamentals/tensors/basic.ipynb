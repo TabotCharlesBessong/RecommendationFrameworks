{
 "cells": [
  {
   "cell_type": "markdown",
   "metadata": {},
   "source": [
    "# 1. Basic Tensors"
   ]
  },
  {
   "cell_type": "markdown",
   "metadata": {},
   "source": [
    "## 1.1 Introduction"
   ]
  },
  {
   "cell_type": "code",
   "execution_count": 2,
   "metadata": {},
   "outputs": [],
   "source": [
    "import torch as tc\n",
    "import pandas as pd\n",
    "import numpy as np\n",
    "import matplotlib.pyplot as plt"
   ]
  },
  {
   "cell_type": "code",
   "execution_count": 3,
   "metadata": {},
   "outputs": [
    {
     "name": "stdout",
     "output_type": "stream",
     "text": [
      "7\n"
     ]
    }
   ],
   "source": [
    "# scaler tensor\n",
    "scalar = tc.tensor(7)\n",
    "scalar\n",
    "print(scalar.item())"
   ]
  },
  {
   "cell_type": "code",
   "execution_count": 4,
   "metadata": {},
   "outputs": [
    {
     "data": {
      "text/plain": [
       "tensor([8, 8])"
      ]
     },
     "execution_count": 4,
     "metadata": {},
     "output_type": "execute_result"
    }
   ],
   "source": [
    "# vector tensor\n",
    "vector = tc.tensor([8,8])\n",
    "vector"
   ]
  },
  {
   "cell_type": "code",
   "execution_count": 5,
   "metadata": {},
   "outputs": [
    {
     "data": {
      "text/plain": [
       "tensor([[7, 8],\n",
       "        [8, 7]])"
      ]
     },
     "execution_count": 5,
     "metadata": {},
     "output_type": "execute_result"
    }
   ],
   "source": [
    "# matrix\n",
    "MATRIX = tc.tensor([[7,8],[8,7]])\n",
    "MATRIX"
   ]
  },
  {
   "cell_type": "code",
   "execution_count": 6,
   "metadata": {},
   "outputs": [
    {
     "name": "stdout",
     "output_type": "stream",
     "text": [
      "torch.Size([2, 3, 4])\n"
     ]
    }
   ],
   "source": [
    "# tebnsor\n",
    "TENSOR = tc.tensor(\n",
    "    [\n",
    "        [[1, 2, 3, 4], [5, 6, 7, 8], [9, 10, 11, 12]],\n",
    "        [[1, 2, 3, 4], [5, 6, 7, 8], [9, 10, 11, 12]],\n",
    "    ]\n",
    ")\n",
    "print(TENSOR.shape)"
   ]
  },
  {
   "cell_type": "markdown",
   "metadata": {},
   "source": [
    "## 1.2 Random Tensors"
   ]
  },
  {
   "cell_type": "code",
   "execution_count": 7,
   "metadata": {},
   "outputs": [
    {
     "data": {
      "text/plain": [
       "tensor([[[0.5064, 0.1676, 0.3684, 0.2874, 0.0887, 0.7914],\n",
       "         [0.2121, 0.7914, 0.8262, 0.8673, 0.2274, 0.2150],\n",
       "         [0.4112, 0.4392, 0.3767, 0.3821, 0.8364, 0.8515],\n",
       "         [0.3703, 0.1846, 0.9416, 0.8429, 0.2916, 0.1349]],\n",
       "\n",
       "        [[0.2547, 0.2499, 0.5164, 0.1120, 0.5221, 0.3316],\n",
       "         [0.1887, 0.3532, 0.5273, 0.9026, 0.5382, 0.9787],\n",
       "         [0.9924, 0.6692, 0.0203, 0.3087, 0.4503, 0.6231],\n",
       "         [0.5174, 0.1268, 0.0646, 0.9718, 0.2073, 0.3889]],\n",
       "\n",
       "        [[0.3387, 0.9198, 0.3675, 0.7895, 0.3607, 0.5926],\n",
       "         [0.1481, 0.0478, 0.1760, 0.3187, 0.5980, 0.8914],\n",
       "         [0.6955, 0.3091, 0.6858, 0.6876, 0.0482, 0.2853],\n",
       "         [0.3967, 0.5879, 0.6489, 0.0487, 0.3306, 0.8680]]])"
      ]
     },
     "execution_count": 7,
     "metadata": {},
     "output_type": "execute_result"
    }
   ],
   "source": [
    "# creating a random tensor\n",
    "\n",
    "rand_tensor = tc.rand(3, 4,6)\n",
    "rand_tensor"
   ]
  },
  {
   "cell_type": "code",
   "execution_count": 8,
   "metadata": {},
   "outputs": [
    {
     "data": {
      "text/plain": [
       "(torch.Size([224, 224, 3]), 3)"
      ]
     },
     "execution_count": 8,
     "metadata": {},
     "output_type": "execute_result"
    }
   ],
   "source": [
    "# create random tensor with similar shape to an image tensor\n",
    "random_image_size_tensor = tc.rand(size=(224,224,3))\n",
    "random_image_size_tensor.shape, random_image_size_tensor.ndim"
   ]
  },
  {
   "cell_type": "markdown",
   "metadata": {},
   "source": [
    "### 1.2.1 Zero and one tensors"
   ]
  },
  {
   "cell_type": "code",
   "execution_count": 9,
   "metadata": {},
   "outputs": [
    {
     "name": "stdout",
     "output_type": "stream",
     "text": [
      "tensor([[0., 0., 0., 0., 0.],\n",
      "        [0., 0., 0., 0., 0.],\n",
      "        [0., 0., 0., 0., 0.]]) \n",
      " tensor([[1., 1., 1., 1., 1.],\n",
      "        [1., 1., 1., 1., 1.],\n",
      "        [1., 1., 1., 1., 1.],\n",
      "        [1., 1., 1., 1., 1.]])\n"
     ]
    }
   ],
   "source": [
    "zeros = tc.zeros(size=(3,5))\n",
    "ones = tc.ones(size=(4,5))\n",
    "print(zeros,\"\\n\",ones)"
   ]
  },
  {
   "cell_type": "markdown",
   "metadata": {},
   "source": [
    "### 1.2.2 Range of tensors"
   ]
  },
  {
   "cell_type": "code",
   "execution_count": 10,
   "metadata": {},
   "outputs": [
    {
     "name": "stderr",
     "output_type": "stream",
     "text": [
      "C:\\Users\\TabotCharlesBessong\\AppData\\Local\\Temp\\ipykernel_3828\\3825928754.py:1: UserWarning: torch.range is deprecated and will be removed in a future release because its behavior is inconsistent with Python's range builtin. Instead, use torch.arange, which produces values in [start, end).\n",
      "  range = tc.range(1, 13, 3)\n"
     ]
    },
    {
     "name": "stdout",
     "output_type": "stream",
     "text": [
      "tensor([ 1.,  4.,  7., 10., 13.]) \n",
      " tensor([  1,  78, 155, 232, 309, 386, 463, 540, 617, 694, 771, 848, 925])\n"
     ]
    }
   ],
   "source": [
    "range = tc.range(1, 13, 3)\n",
    "arr = tc.arange(start=1,end=1001,step=77)\n",
    "print(range,\"\\n\",arr)"
   ]
  },
  {
   "cell_type": "markdown",
   "metadata": {},
   "source": [
    "## 1.3 Tensor datatypes"
   ]
  },
  {
   "cell_type": "code",
   "execution_count": 11,
   "metadata": {},
   "outputs": [
    {
     "data": {
      "text/plain": [
       "tensor([1., 2., 3., 4.], dtype=torch.float16)"
      ]
     },
     "execution_count": 11,
     "metadata": {},
     "output_type": "execute_result"
    }
   ],
   "source": [
    "# float 32 tensors\n",
    "float_32_tensor = tc.tensor(\n",
    "    [1, 2, 3, 4], dtype=tc.float16, device=None, requires_grad=False\n",
    ")\n",
    "float_32_tensor"
   ]
  },
  {
   "cell_type": "markdown",
   "metadata": {},
   "source": [
    "## 1.4 Getting information from tensor"
   ]
  },
  {
   "cell_type": "code",
   "execution_count": 12,
   "metadata": {},
   "outputs": [
    {
     "name": "stdout",
     "output_type": "stream",
     "text": [
      "tensor([[0.6981, 0.2908, 0.6284, 0.8841],\n",
      "        [0.4439, 0.3524, 0.0743, 0.1119],\n",
      "        [0.1703, 0.7071, 0.3619, 0.4250]])\n",
      "Shape of tensor: torch.Size([3, 4])\n",
      "Datatype of tensor: torch.float32\n",
      "Device of the tensor: cpu\n"
     ]
    }
   ],
   "source": [
    "# creating a tensor\n",
    "some_tensor = tc.rand(3,4)\n",
    "\n",
    "# finding details on the tensor\n",
    "print(some_tensor)\n",
    "print(f\"Shape of tensor: {some_tensor.shape}\")\n",
    "print(f\"Datatype of tensor: {some_tensor.dtype}\")\n",
    "print(f\"Device of the tensor: {some_tensor.device}\")"
   ]
  },
  {
   "cell_type": "markdown",
   "metadata": {},
   "source": [
    "### 1.4.1 Manipulating tensors"
   ]
  },
  {
   "cell_type": "code",
   "execution_count": 13,
   "metadata": {},
   "outputs": [
    {
     "name": "stdout",
     "output_type": "stream",
     "text": [
      "tensor([13, 14, 15])\n",
      "tensor([ 6, 12, 18])\n",
      "tensor([0.1000, 0.2000, 0.3000])\n",
      "tensor([7, 8, 9])\n"
     ]
    }
   ],
   "source": [
    "# creare a tensor\n",
    "tensor = tc.tensor([1,2,3])\n",
    "print(tensor + 12)\n",
    "print(tensor * 6)\n",
    "print(tensor / 10)\n",
    "print(tensor - (-6))"
   ]
  },
  {
   "cell_type": "markdown",
   "metadata": {},
   "source": [
    "#### 1.4.1.1 Matrix Multiplication"
   ]
  },
  {
   "cell_type": "code",
   "execution_count": 14,
   "metadata": {},
   "outputs": [
    {
     "name": "stdout",
     "output_type": "stream",
     "text": [
      "tensor([[22, 28],\n",
      "        [49, 64]])\n"
     ]
    }
   ],
   "source": [
    "a = tc.tensor([[1,2,3],[4,5,6]])\n",
    "b = tc.tensor([[1,2],[3,4],[5,6]])\n",
    "c = tc.matmul(a,b)\n",
    "print(c)"
   ]
  },
  {
   "cell_type": "code",
   "execution_count": 15,
   "metadata": {},
   "outputs": [
    {
     "name": "stdout",
     "output_type": "stream",
     "text": [
      "tensor(0) tensor(0)\n",
      "tensor(100) tensor(10)\n",
      "torch.int64\n",
      "tensor(50.)\n",
      "tensor(50.)\n"
     ]
    }
   ],
   "source": [
    "# tensor aggregation\n",
    "x = tc.arange(0,101,10)\n",
    "print(tc.min(x),x.argmin())\n",
    "print(tc.max(x),x.argmax())\n",
    "print(x.dtype)\n",
    "print(tc.mean(x.type(tc.float32)))\n",
    "print(tc.median(x.type(tc.float32)))"
   ]
  },
  {
   "cell_type": "markdown",
   "metadata": {},
   "source": [
    "## 1.5 Tensor dimension\n",
    "* Reshaping the tensor\n",
    "* Viewing the tensor\n",
    "* Stacking the tensor\n",
    "* Squeeze The tensor\n",
    "* Desqueeze The tensor\n",
    "* Permute The tensor"
   ]
  },
  {
   "cell_type": "code",
   "execution_count": 16,
   "metadata": {},
   "outputs": [
    {
     "name": "stdout",
     "output_type": "stream",
     "text": [
      "torch.Size([10])\n"
     ]
    }
   ],
   "source": [
    "# create a tensor\n",
    "x = tc.arange(1,11)\n",
    "print(x.shape)"
   ]
  },
  {
   "cell_type": "markdown",
   "metadata": {},
   "source": [
    "### 1.5.1 Reshape, adding another dimension"
   ]
  },
  {
   "cell_type": "code",
   "execution_count": 17,
   "metadata": {},
   "outputs": [
    {
     "name": "stdout",
     "output_type": "stream",
     "text": [
      "tensor([[ 1,  2],\n",
      "        [ 3,  4],\n",
      "        [ 5,  6],\n",
      "        [ 7,  8],\n",
      "        [ 9, 10]]) torch.Size([5, 2])\n"
     ]
    }
   ],
   "source": [
    "x_reshaped = x.reshape(5,2)\n",
    "print(x_reshaped,x_reshaped.shape)"
   ]
  },
  {
   "cell_type": "code",
   "execution_count": 18,
   "metadata": {},
   "outputs": [
    {
     "name": "stdout",
     "output_type": "stream",
     "text": [
      "torch.Size([12])\n",
      "tensor([[ 1,  2,  3],\n",
      "        [ 4,  5,  6],\n",
      "        [ 7,  8,  9],\n",
      "        [10, 11, 12]]) torch.Size([4, 3])\n"
     ]
    }
   ],
   "source": [
    "y = tc.arange(1,13)\n",
    "print(y.shape)\n",
    "y_reshaped = y.reshape(4,3)\n",
    "print(y_reshaped,y_reshaped.shape)"
   ]
  },
  {
   "cell_type": "markdown",
   "metadata": {},
   "source": [
    "### 1.5.2 Stacking of tensors"
   ]
  },
  {
   "cell_type": "code",
   "execution_count": 19,
   "metadata": {},
   "outputs": [
    {
     "name": "stdout",
     "output_type": "stream",
     "text": [
      "tensor([[ 1,  2,  3,  4,  5,  6,  7,  8,  9, 10],\n",
      "        [ 1,  2,  3,  4,  5,  6,  7,  8,  9, 10],\n",
      "        [ 1,  2,  3,  4,  5,  6,  7,  8,  9, 10],\n",
      "        [ 1,  2,  3,  4,  5,  6,  7,  8,  9, 10]]) \n",
      " tensor([[ 1,  2,  3,  4,  5,  6,  7,  8,  9, 10, 11, 12],\n",
      "        [ 1,  2,  3,  4,  5,  6,  7,  8,  9, 10, 11, 12],\n",
      "        [ 1,  2,  3,  4,  5,  6,  7,  8,  9, 10, 11, 12]])\n",
      "torch.Size([4, 10]) \n",
      " torch.Size([3, 12])\n"
     ]
    }
   ],
   "source": [
    "x_stacked = tc.stack([x,x,x,x])\n",
    "y_stacked = tc.stack([y,y,y])\n",
    "print(x_stacked,\"\\n\",y_stacked)\n",
    "print(x_stacked.shape,\"\\n\",y_stacked.shape)"
   ]
  },
  {
   "cell_type": "markdown",
   "metadata": {},
   "source": [
    "### 1.5.3 Sqeezing tensors"
   ]
  },
  {
   "cell_type": "code",
   "execution_count": 20,
   "metadata": {},
   "outputs": [
    {
     "name": "stdout",
     "output_type": "stream",
     "text": [
      "tensor([[[[[0., 0.]],\n",
      "\n",
      "          [[0., 0.]]]],\n",
      "\n",
      "\n",
      "\n",
      "        [[[[0., 0.]],\n",
      "\n",
      "          [[0., 0.]]]]]) torch.Size([2, 1, 2, 1, 2])\n"
     ]
    }
   ],
   "source": [
    "l = tc.zeros(2,1,2,1,2)\n",
    "print(l,l.size())"
   ]
  },
  {
   "cell_type": "code",
   "execution_count": 21,
   "metadata": {},
   "outputs": [
    {
     "name": "stdout",
     "output_type": "stream",
     "text": [
      "tensor([[[0., 0.],\n",
      "         [0., 0.]],\n",
      "\n",
      "        [[0., 0.],\n",
      "         [0., 0.]]]) torch.Size([2, 2, 2])\n"
     ]
    }
   ],
   "source": [
    "m = tc.squeeze(l)\n",
    "print(m,m.size())"
   ]
  },
  {
   "cell_type": "code",
   "execution_count": 22,
   "metadata": {},
   "outputs": [
    {
     "name": "stdout",
     "output_type": "stream",
     "text": [
      "tensor([[[[[0., 0.]],\n",
      "\n",
      "          [[0., 0.]]]],\n",
      "\n",
      "\n",
      "\n",
      "        [[[[0., 0.]],\n",
      "\n",
      "          [[0., 0.]]]]]) torch.Size([2, 1, 2, 1, 2])\n"
     ]
    }
   ],
   "source": [
    "n = tc.squeeze(l,0)\n",
    "print(n,n.size())"
   ]
  },
  {
   "cell_type": "markdown",
   "metadata": {},
   "source": [
    "### 1.5.4 Tensor permute\n",
    "##### Rearrange position of tensors"
   ]
  },
  {
   "cell_type": "code",
   "execution_count": 26,
   "metadata": {},
   "outputs": [
    {
     "name": "stdout",
     "output_type": "stream",
     "text": [
      "torch.Size([2, 3, 5])\n",
      "tensor([[[0.9489, 0.5121, 0.8088, 0.5577, 0.0087],\n",
      "         [0.1621, 0.7204, 0.3509, 0.5058, 0.9891],\n",
      "         [0.5564, 0.0980, 0.9397, 0.9865, 0.0774]],\n",
      "\n",
      "        [[0.8106, 0.7306, 0.7150, 0.9951, 0.5376],\n",
      "         [0.0360, 0.6407, 0.1235, 0.2552, 0.7473],\n",
      "         [0.2539, 0.5894, 0.6426, 0.8122, 0.6197]]])\n",
      "(torch.Size([5, 2, 3]), '\\n', torch.Size([5, 2, 3]))\n"
     ]
    }
   ],
   "source": [
    "x1 = tc.rand(2,3,5)\n",
    "print(x1.size())\n",
    "print(x1)\n",
    "print((tc.permute(x1, (2, 0, 1)).size(),\"\\n\",tc.permute(x1, (2, 0, 1)).size()))"
   ]
  },
  {
   "cell_type": "markdown",
   "metadata": {},
   "source": []
  },
  {
   "cell_type": "code",
   "execution_count": null,
   "metadata": {},
   "outputs": [],
   "source": []
  }
 ],
 "metadata": {
  "kernelspec": {
   "display_name": "Python 3",
   "language": "python",
   "name": "python3"
  },
  "language_info": {
   "codemirror_mode": {
    "name": "ipython",
    "version": 3
   },
   "file_extension": ".py",
   "mimetype": "text/x-python",
   "name": "python",
   "nbconvert_exporter": "python",
   "pygments_lexer": "ipython3",
   "version": "3.11.5"
  }
 },
 "nbformat": 4,
 "nbformat_minor": 2
}
