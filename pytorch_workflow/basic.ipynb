{
 "cells": [
  {
   "cell_type": "markdown",
   "metadata": {},
   "source": [
    "# 2. Pytorch workflow\n"
   ]
  },
  {
   "cell_type": "code",
   "execution_count": null,
   "metadata": {},
   "outputs": [],
   "source": [
    "import torch as tc\n",
    "from torch import nn\n",
    "import numpy as np\n",
    "import matplotlib.pyplot as plt"
   ]
  },
  {
   "cell_type": "markdown",
   "metadata": {},
   "source": [
    "## 2.1 Preparing and Loading Data\n"
   ]
  },
  {
   "cell_type": "code",
   "execution_count": null,
   "metadata": {},
   "outputs": [],
   "source": [
    "tc.__version__"
   ]
  },
  {
   "cell_type": "code",
   "execution_count": null,
   "metadata": {},
   "outputs": [],
   "source": [
    "# create known params\n",
    "weight = 0.7\n",
    "bias = 0.3\n",
    "\n",
    "# create numbers\n",
    "start = 0\n",
    "end = 1\n",
    "step = 0.02\n",
    "X = tc.arange(start, end, step).unsqueeze(dim=1)\n",
    "y = weight * X + bias\n",
    "X[:10], y[:10]"
   ]
  },
  {
   "cell_type": "markdown",
   "metadata": {},
   "source": [
    "### 1.1.1 Data splitting\n"
   ]
  },
  {
   "cell_type": "code",
   "execution_count": null,
   "metadata": {},
   "outputs": [],
   "source": [
    "# create test split\n",
    "# create test split\n",
    "# from sklearn.model_selection import train_test_split\n",
    "\n",
    "# train_split = int(0.8 * len(X))\n",
    "# X_train, y_train, X_test, y_test = train_test_split(X, test_size=0.2, random_state=101)\n",
    "\n",
    "# print(X_train, \"\\n\", X_test, \"\\n\", y_train, \"\\n\", y_test)\n",
    "\n",
    "train_split = int(0.8 * len(X))\n",
    "X_train, y_train = X[:train_split], y[:train_split]\n",
    "X_test, y_test = X[train_split:], y[train_split:]\n",
    "# print(X_train[:10], \"\\n\", X_test[:5], \"\\n\", y_train[:10], \"\\n\", y_test[:5])\n",
    "len(X_train), len(y_train), len(X_test), len(y_test)"
   ]
  },
  {
   "cell_type": "markdown",
   "metadata": {},
   "source": [
    "## 2.2 Visualization\n"
   ]
  },
  {
   "cell_type": "code",
   "execution_count": null,
   "metadata": {},
   "outputs": [],
   "source": [
    "def plot_pred(\n",
    "    train_data=X_train,\n",
    "    train_label=y_train,\n",
    "    test_data=X_test,\n",
    "    test_label=y_test,\n",
    "    predictions=None,\n",
    "):\n",
    "    \"\"\"\n",
    "    Function to train data, test data and compare predictions\n",
    "    \"\"\"\n",
    "    plt.figure(figsize=(10, 7))\n",
    "    plt.scatter(train_data, train_label, c=\"b\", s=16, label=\"Training data\")\n",
    "    plt.scatter(test_data, test_label, c=\"g\", s=16, label=\"Testing data\")\n",
    "\n",
    "    # Are there predictions?\n",
    "    if predictions is not None:\n",
    "        plt.scatter(test_data, predictions, c=\"r\", label=\"Predictions\")\n",
    "\n",
    "    plt.legend(prop={\"size\": 14})"
   ]
  },
  {
   "cell_type": "code",
   "execution_count": null,
   "metadata": {},
   "outputs": [],
   "source": [
    "plot_pred()"
   ]
  },
  {
   "cell_type": "markdown",
   "metadata": {},
   "source": [
    "## 2.3 Building a model\n"
   ]
  },
  {
   "cell_type": "code",
   "execution_count": null,
   "metadata": {},
   "outputs": [],
   "source": [
    "# creating a linear regression model\n",
    "class LinearRegressionModel(nn.Module):\n",
    "    def __init__(self):\n",
    "        super().__init__()\n",
    "        self.weights = nn.Parameter(tc.randn(1, requires_grad=True, dtype=tc.float))\n",
    "        self.bias = nn.Parameter(tc.randn(1, requires_grad=True, dtype=tc.float))\n",
    "\n",
    "        # forward methodez\n",
    "    def forward(self, x: tc.tensor) -> tc.Tensor:\n",
    "        return self.weights * x + self.bias"
   ]
  },
  {
   "cell_type": "code",
   "execution_count": null,
   "metadata": {},
   "outputs": [],
   "source": [
    "# creating a random seed\n",
    "tc.manual_seed(42)\n",
    "\n",
    "model0 = LinearRegressionModel()\n",
    "model0"
   ]
  },
  {
   "cell_type": "code",
   "execution_count": null,
   "metadata": {},
   "outputs": [],
   "source": [
    "# check the parameters\n",
    "list(model0.parameters())"
   ]
  },
  {
   "cell_type": "markdown",
   "metadata": {},
   "source": [
    "## 2.4 Making predictions from our model"
   ]
  },
  {
   "cell_type": "code",
   "execution_count": null,
   "metadata": {},
   "outputs": [],
   "source": [
    "with tc.inference_mode():\n",
    "  y_preds = model0(X_test)\n",
    "y_preds"
   ]
  },
  {
   "cell_type": "code",
   "execution_count": null,
   "metadata": {},
   "outputs": [],
   "source": [
    "plot_pred(predictions=y_preds)"
   ]
  },
  {
   "cell_type": "markdown",
   "metadata": {},
   "source": [
    "## 2.5 Training a model"
   ]
  },
  {
   "cell_type": "code",
   "execution_count": null,
   "metadata": {},
   "outputs": [],
   "source": [
    "list(model0.parameters())"
   ]
  },
  {
   "cell_type": "code",
   "execution_count": null,
   "metadata": {},
   "outputs": [],
   "source": [
    "print(model0.state_dict())\n",
    "loss_fn = nn.L1Loss()\n",
    "print(loss_fn)"
   ]
  },
  {
   "cell_type": "code",
   "execution_count": null,
   "metadata": {},
   "outputs": [],
   "source": [
    "# setting up optimiser\n",
    "optimiser = tc.optim.SGD(params=model0.parameters(),lr=0.01)\n",
    "print(optimiser)"
   ]
  },
  {
   "cell_type": "code",
   "execution_count": null,
   "metadata": {},
   "outputs": [],
   "source": [
    "with tc.no_grad():\n",
    "  list(model0.parameters())"
   ]
  },
  {
   "cell_type": "code",
   "execution_count": null,
   "metadata": {},
   "outputs": [],
   "source": [
    "# building a training loop\n",
    "tc.manual_seed(42)\n",
    "epochs = 200\n",
    "\n",
    "# TRacking the values\n",
    "epoch_count = []\n",
    "loss_values = []\n",
    "test_loss_values = []\n",
    "\n",
    "# loop through the data\n",
    "for epoch in range(epochs):\n",
    "  # set the model to training mode\n",
    "  model0.train() # train mode in pytorch sets all parameters that require gradient to train\n",
    "  \n",
    "  # 1. forward pass\n",
    "  y_pred =  model0(X_train)\n",
    "  \n",
    "  # 2. Calculate the loss\n",
    "  loss = loss_fn(y_pred,y_train)\n",
    "  # print(f\"Loss: {loss}\")\n",
    "  \n",
    "  # 3. Optimise zero grad\n",
    "  optimiser.zero_grad()\n",
    "  \n",
    "  # 4. Perform backpropagation on the loss with respect to the parameters of the model\n",
    "  loss.backward()\n",
    "  \n",
    "  # 5. Step the optimiser (gradient descent)\n",
    "  optimiser.step() \n",
    "  model0.eval() # turns off different meetings in the model not needed for evaluation\n",
    "  with tc.inference_mode(): # turns off gradient tracking\n",
    "    # 1. Do the forward pass\n",
    "    test_pred = model0(X_test)\n",
    "    \n",
    "    # 2. Calculate the loss\n",
    "    test_loss = loss_fn(test_pred,y_test)\n",
    "  if epoch % 10 == 0:\n",
    "    epoch_count.append(epoch)\n",
    "    loss_values.append(loss)\n",
    "    test_loss_values.append(test_loss)\n",
    "    print(f\"Epoch: {epoch} | Loss: {loss} | Test loss: {test_loss}\")\n",
    "    # print out model state_dict()\n",
    "    print(model0.state_dict())"
   ]
  },
  {
   "cell_type": "code",
   "execution_count": null,
   "metadata": {},
   "outputs": [],
   "source": [
    "print(model0.state_dict())"
   ]
  },
  {
   "cell_type": "code",
   "execution_count": null,
   "metadata": {},
   "outputs": [],
   "source": [
    "with tc.inference_mode():\n",
    "  y_preds_new = model0(X_test)\n",
    "  \n",
    "y_preds_new"
   ]
  },
  {
   "cell_type": "code",
   "execution_count": null,
   "metadata": {},
   "outputs": [],
   "source": [
    "plot_pred(predictions=y_preds)"
   ]
  },
  {
   "cell_type": "code",
   "execution_count": null,
   "metadata": {},
   "outputs": [],
   "source": [
    "plot_pred(predictions=y_preds_new)"
   ]
  },
  {
   "cell_type": "code",
   "execution_count": null,
   "metadata": {},
   "outputs": [],
   "source": [
    "# plot the loss curves\n",
    "plt.plot(epoch_count,np.array(tc.tensor(loss_values).cpu().numpy()),label=\"Train Loss\")\n",
    "plt.plot(epoch_count,test_loss_values,label=\"Test loss\")\n",
    "plt.title(\"Training and test loss curve\")\n",
    "plt.ylabel(\"Loss\")\n",
    "plt.xlabel(\"Epoch\")\n",
    "plt.legend()"
   ]
  },
  {
   "cell_type": "markdown",
   "metadata": {},
   "source": [
    "## 2.6 Saving a model"
   ]
  },
  {
   "cell_type": "code",
   "execution_count": null,
   "metadata": {},
   "outputs": [],
   "source": [
    "# saving our pytorch model\n",
    "from pathlib import Path\n",
    "# create model directory\n",
    "MODEL_PATH = Path(\"models\")\n",
    "MODEL_PATH.mkdir(parents=True,exist_ok=True)\n",
    "MODEL_NAME = \"01_pytorch_workflow_model.pth\"\n",
    "MODEL_SAVE_PATH = MODEL_PATH / MODEL_NAME\n",
    "MODEL_SAVE_PATH\n",
    "\n",
    "# save the model state_dict\n",
    "print(f\"Saving model to: {MODEL_SAVE_PATH}\")\n",
    "tc.save(obj=model0.state_dict(),f=MODEL_SAVE_PATH)\n"
   ]
  },
  {
   "cell_type": "code",
   "execution_count": null,
   "metadata": {},
   "outputs": [],
   "source": [
    "# Loading a model\n",
    "loaded_model0 = LinearRegressionModel()\n",
    "\n",
    "# load the saved state_dict of model 0\n",
    "loaded_model0.load_state_dict(tc.load(f=MODEL_SAVE_PATH))"
   ]
  },
  {
   "cell_type": "code",
   "execution_count": null,
   "metadata": {},
   "outputs": [],
   "source": [
    "loaded_model0.eval()\n",
    "with tc.inference_mode():\n",
    "  loaded_model_preds = loaded_model0(X_test)\n",
    "  \n",
    "loaded_model_preds\n"
   ]
  },
  {
   "cell_type": "code",
   "execution_count": null,
   "metadata": {},
   "outputs": [],
   "source": [
    "# compare the two models\n",
    "y_preds_new == loaded_model_preds"
   ]
  },
  {
   "cell_type": "code",
   "execution_count": null,
   "metadata": {},
   "outputs": [],
   "source": []
  }
 ],
 "metadata": {
  "kernelspec": {
   "display_name": "Python 3",
   "language": "python",
   "name": "python3"
  },
  "language_info": {
   "codemirror_mode": {
    "name": "ipython",
    "version": 3
   },
   "file_extension": ".py",
   "mimetype": "text/x-python",
   "name": "python",
   "nbconvert_exporter": "python",
   "pygments_lexer": "ipython3",
   "version": "3.11.5"
  }
 },
 "nbformat": 4,
 "nbformat_minor": 2
}
