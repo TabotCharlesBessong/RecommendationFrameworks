{
 "cells": [
  {
   "cell_type": "markdown",
   "metadata": {},
   "source": [
    "# Pytorch workflow"
   ]
  },
  {
   "cell_type": "code",
   "execution_count": null,
   "metadata": {},
   "outputs": [],
   "source": [
    "import torch as tc\n",
    "from torch import nn\n",
    "import numpy as np\n",
    "import matplotlib.pyplot as plt"
   ]
  },
  {
   "cell_type": "markdown",
   "metadata": {},
   "source": [
    "## 1.1 Preparing and Loading Data"
   ]
  },
  {
   "cell_type": "code",
   "execution_count": null,
   "metadata": {},
   "outputs": [],
   "source": [
    "tc.__version__"
   ]
  },
  {
   "cell_type": "code",
   "execution_count": null,
   "metadata": {},
   "outputs": [],
   "source": [
    "# create known params\n",
    "weight = 0.7\n",
    "bias = 0.3\n",
    "\n",
    "# create numbers\n",
    "start = 0\n",
    "end = 1\n",
    "step = 0.02\n",
    "X = tc.arange(start,end,step).unsqueeze(dim=1)\n",
    "y = weight * X + bias\n",
    "X[:10], y[:10]"
   ]
  },
  {
   "cell_type": "markdown",
   "metadata": {},
   "source": [
    "### 1.1.1 Data splitting"
   ]
  },
  {
   "cell_type": "code",
   "execution_count": null,
   "metadata": {},
   "outputs": [],
   "source": [
    "# create test split\n",
    "# create test split\n",
    "# from sklearn.model_selection import train_test_split\n",
    "\n",
    "# train_split = int(0.8 * len(X))\n",
    "# X_train, y_train, X_test, y_test = train_test_split(X, test_size=0.2, random_state=101)\n",
    "\n",
    "# print(X_train, \"\\n\", X_test, \"\\n\", y_train, \"\\n\", y_test)\n",
    "\n",
    "train_split = int(0.8 * len(X))\n",
    "X_train,y_train = X[:train_split], y[:train_split]\n",
    "X_test,y_test = X[train_split:], y[train_split:]\n",
    "# print(X_train[:10], \"\\n\", X_test[:5], \"\\n\", y_train[:10], \"\\n\", y_test[:5])\n",
    "len(X_train), len(y_train), len(X_test), len(y_test)"
   ]
  },
  {
   "cell_type": "code",
   "execution_count": null,
   "metadata": {},
   "outputs": [],
   "source": []
  }
 ],
 "metadata": {
  "kernelspec": {
   "display_name": "Python 3",
   "language": "python",
   "name": "python3"
  },
  "language_info": {
   "codemirror_mode": {
    "name": "ipython",
    "version": 3
   },
   "file_extension": ".py",
   "mimetype": "text/x-python",
   "name": "python",
   "nbconvert_exporter": "python",
   "pygments_lexer": "ipython3",
   "version": "3.11.5"
  }
 },
 "nbformat": 4,
 "nbformat_minor": 2
}
